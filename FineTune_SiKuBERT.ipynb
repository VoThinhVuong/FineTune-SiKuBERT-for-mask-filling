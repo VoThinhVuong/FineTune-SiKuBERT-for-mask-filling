{
  "nbformat": 4,
  "nbformat_minor": 0,
  "metadata": {
    "colab": {
      "provenance": []
    },
    "kernelspec": {
      "name": "python3",
      "display_name": "Python 3"
    },
    "language_info": {
      "name": "python"
    },
    "widgets": {
      "application/vnd.jupyter.widget-state+json": {
        "321d7a5b57584a85a96806844cc99e0c": {
          "model_module": "@jupyter-widgets/controls",
          "model_name": "HBoxModel",
          "model_module_version": "1.5.0",
          "state": {
            "_dom_classes": [],
            "_model_module": "@jupyter-widgets/controls",
            "_model_module_version": "1.5.0",
            "_model_name": "HBoxModel",
            "_view_count": null,
            "_view_module": "@jupyter-widgets/controls",
            "_view_module_version": "1.5.0",
            "_view_name": "HBoxView",
            "box_style": "",
            "children": [
              "IPY_MODEL_155da407ae764d36a47392e3335e836a",
              "IPY_MODEL_7222d216f5f54c9e87bf125e69f019d1",
              "IPY_MODEL_e97eb4019d4242fdbe1fbfa3f1bda582"
            ],
            "layout": "IPY_MODEL_52516fcf9fd84ee894b2c0b3dee8e1ea"
          }
        },
        "155da407ae764d36a47392e3335e836a": {
          "model_module": "@jupyter-widgets/controls",
          "model_name": "HTMLModel",
          "model_module_version": "1.5.0",
          "state": {
            "_dom_classes": [],
            "_model_module": "@jupyter-widgets/controls",
            "_model_module_version": "1.5.0",
            "_model_name": "HTMLModel",
            "_view_count": null,
            "_view_module": "@jupyter-widgets/controls",
            "_view_module_version": "1.5.0",
            "_view_name": "HTMLView",
            "description": "",
            "description_tooltip": null,
            "layout": "IPY_MODEL_bfadf611aeca444ab25965c484380c96",
            "placeholder": "​",
            "style": "IPY_MODEL_005f0de7c64e47a28285609d42846d97",
            "value": "Epoch 1/4: 100%"
          }
        },
        "7222d216f5f54c9e87bf125e69f019d1": {
          "model_module": "@jupyter-widgets/controls",
          "model_name": "FloatProgressModel",
          "model_module_version": "1.5.0",
          "state": {
            "_dom_classes": [],
            "_model_module": "@jupyter-widgets/controls",
            "_model_module_version": "1.5.0",
            "_model_name": "FloatProgressModel",
            "_view_count": null,
            "_view_module": "@jupyter-widgets/controls",
            "_view_module_version": "1.5.0",
            "_view_name": "ProgressView",
            "bar_style": "success",
            "description": "",
            "description_tooltip": null,
            "layout": "IPY_MODEL_586d85fea6144d0ca409c98b1ff642cb",
            "max": 9,
            "min": 0,
            "orientation": "horizontal",
            "style": "IPY_MODEL_69e92b1901ea49348cc5a3523ea4775c",
            "value": 9
          }
        },
        "e97eb4019d4242fdbe1fbfa3f1bda582": {
          "model_module": "@jupyter-widgets/controls",
          "model_name": "HTMLModel",
          "model_module_version": "1.5.0",
          "state": {
            "_dom_classes": [],
            "_model_module": "@jupyter-widgets/controls",
            "_model_module_version": "1.5.0",
            "_model_name": "HTMLModel",
            "_view_count": null,
            "_view_module": "@jupyter-widgets/controls",
            "_view_module_version": "1.5.0",
            "_view_name": "HTMLView",
            "description": "",
            "description_tooltip": null,
            "layout": "IPY_MODEL_6b81d7f36acd4f89a403510d89987b5d",
            "placeholder": "​",
            "style": "IPY_MODEL_8f5cf8eb56ab417fab2494458d70542a",
            "value": " 9/9 [00:31&lt;00:00,  2.97s/it, loss=10, perplexity=2.28e+4]"
          }
        },
        "52516fcf9fd84ee894b2c0b3dee8e1ea": {
          "model_module": "@jupyter-widgets/base",
          "model_name": "LayoutModel",
          "model_module_version": "1.2.0",
          "state": {
            "_model_module": "@jupyter-widgets/base",
            "_model_module_version": "1.2.0",
            "_model_name": "LayoutModel",
            "_view_count": null,
            "_view_module": "@jupyter-widgets/base",
            "_view_module_version": "1.2.0",
            "_view_name": "LayoutView",
            "align_content": null,
            "align_items": null,
            "align_self": null,
            "border": null,
            "bottom": null,
            "display": null,
            "flex": null,
            "flex_flow": null,
            "grid_area": null,
            "grid_auto_columns": null,
            "grid_auto_flow": null,
            "grid_auto_rows": null,
            "grid_column": null,
            "grid_gap": null,
            "grid_row": null,
            "grid_template_areas": null,
            "grid_template_columns": null,
            "grid_template_rows": null,
            "height": null,
            "justify_content": null,
            "justify_items": null,
            "left": null,
            "margin": null,
            "max_height": null,
            "max_width": null,
            "min_height": null,
            "min_width": null,
            "object_fit": null,
            "object_position": null,
            "order": null,
            "overflow": null,
            "overflow_x": null,
            "overflow_y": null,
            "padding": null,
            "right": null,
            "top": null,
            "visibility": null,
            "width": null
          }
        },
        "bfadf611aeca444ab25965c484380c96": {
          "model_module": "@jupyter-widgets/base",
          "model_name": "LayoutModel",
          "model_module_version": "1.2.0",
          "state": {
            "_model_module": "@jupyter-widgets/base",
            "_model_module_version": "1.2.0",
            "_model_name": "LayoutModel",
            "_view_count": null,
            "_view_module": "@jupyter-widgets/base",
            "_view_module_version": "1.2.0",
            "_view_name": "LayoutView",
            "align_content": null,
            "align_items": null,
            "align_self": null,
            "border": null,
            "bottom": null,
            "display": null,
            "flex": null,
            "flex_flow": null,
            "grid_area": null,
            "grid_auto_columns": null,
            "grid_auto_flow": null,
            "grid_auto_rows": null,
            "grid_column": null,
            "grid_gap": null,
            "grid_row": null,
            "grid_template_areas": null,
            "grid_template_columns": null,
            "grid_template_rows": null,
            "height": null,
            "justify_content": null,
            "justify_items": null,
            "left": null,
            "margin": null,
            "max_height": null,
            "max_width": null,
            "min_height": null,
            "min_width": null,
            "object_fit": null,
            "object_position": null,
            "order": null,
            "overflow": null,
            "overflow_x": null,
            "overflow_y": null,
            "padding": null,
            "right": null,
            "top": null,
            "visibility": null,
            "width": null
          }
        },
        "005f0de7c64e47a28285609d42846d97": {
          "model_module": "@jupyter-widgets/controls",
          "model_name": "DescriptionStyleModel",
          "model_module_version": "1.5.0",
          "state": {
            "_model_module": "@jupyter-widgets/controls",
            "_model_module_version": "1.5.0",
            "_model_name": "DescriptionStyleModel",
            "_view_count": null,
            "_view_module": "@jupyter-widgets/base",
            "_view_module_version": "1.2.0",
            "_view_name": "StyleView",
            "description_width": ""
          }
        },
        "586d85fea6144d0ca409c98b1ff642cb": {
          "model_module": "@jupyter-widgets/base",
          "model_name": "LayoutModel",
          "model_module_version": "1.2.0",
          "state": {
            "_model_module": "@jupyter-widgets/base",
            "_model_module_version": "1.2.0",
            "_model_name": "LayoutModel",
            "_view_count": null,
            "_view_module": "@jupyter-widgets/base",
            "_view_module_version": "1.2.0",
            "_view_name": "LayoutView",
            "align_content": null,
            "align_items": null,
            "align_self": null,
            "border": null,
            "bottom": null,
            "display": null,
            "flex": null,
            "flex_flow": null,
            "grid_area": null,
            "grid_auto_columns": null,
            "grid_auto_flow": null,
            "grid_auto_rows": null,
            "grid_column": null,
            "grid_gap": null,
            "grid_row": null,
            "grid_template_areas": null,
            "grid_template_columns": null,
            "grid_template_rows": null,
            "height": null,
            "justify_content": null,
            "justify_items": null,
            "left": null,
            "margin": null,
            "max_height": null,
            "max_width": null,
            "min_height": null,
            "min_width": null,
            "object_fit": null,
            "object_position": null,
            "order": null,
            "overflow": null,
            "overflow_x": null,
            "overflow_y": null,
            "padding": null,
            "right": null,
            "top": null,
            "visibility": null,
            "width": null
          }
        },
        "69e92b1901ea49348cc5a3523ea4775c": {
          "model_module": "@jupyter-widgets/controls",
          "model_name": "ProgressStyleModel",
          "model_module_version": "1.5.0",
          "state": {
            "_model_module": "@jupyter-widgets/controls",
            "_model_module_version": "1.5.0",
            "_model_name": "ProgressStyleModel",
            "_view_count": null,
            "_view_module": "@jupyter-widgets/base",
            "_view_module_version": "1.2.0",
            "_view_name": "StyleView",
            "bar_color": null,
            "description_width": ""
          }
        },
        "6b81d7f36acd4f89a403510d89987b5d": {
          "model_module": "@jupyter-widgets/base",
          "model_name": "LayoutModel",
          "model_module_version": "1.2.0",
          "state": {
            "_model_module": "@jupyter-widgets/base",
            "_model_module_version": "1.2.0",
            "_model_name": "LayoutModel",
            "_view_count": null,
            "_view_module": "@jupyter-widgets/base",
            "_view_module_version": "1.2.0",
            "_view_name": "LayoutView",
            "align_content": null,
            "align_items": null,
            "align_self": null,
            "border": null,
            "bottom": null,
            "display": null,
            "flex": null,
            "flex_flow": null,
            "grid_area": null,
            "grid_auto_columns": null,
            "grid_auto_flow": null,
            "grid_auto_rows": null,
            "grid_column": null,
            "grid_gap": null,
            "grid_row": null,
            "grid_template_areas": null,
            "grid_template_columns": null,
            "grid_template_rows": null,
            "height": null,
            "justify_content": null,
            "justify_items": null,
            "left": null,
            "margin": null,
            "max_height": null,
            "max_width": null,
            "min_height": null,
            "min_width": null,
            "object_fit": null,
            "object_position": null,
            "order": null,
            "overflow": null,
            "overflow_x": null,
            "overflow_y": null,
            "padding": null,
            "right": null,
            "top": null,
            "visibility": null,
            "width": null
          }
        },
        "8f5cf8eb56ab417fab2494458d70542a": {
          "model_module": "@jupyter-widgets/controls",
          "model_name": "DescriptionStyleModel",
          "model_module_version": "1.5.0",
          "state": {
            "_model_module": "@jupyter-widgets/controls",
            "_model_module_version": "1.5.0",
            "_model_name": "DescriptionStyleModel",
            "_view_count": null,
            "_view_module": "@jupyter-widgets/base",
            "_view_module_version": "1.2.0",
            "_view_name": "StyleView",
            "description_width": ""
          }
        },
        "1e4b119ce510464f9c5c334814dbf7bd": {
          "model_module": "@jupyter-widgets/controls",
          "model_name": "HBoxModel",
          "model_module_version": "1.5.0",
          "state": {
            "_dom_classes": [],
            "_model_module": "@jupyter-widgets/controls",
            "_model_module_version": "1.5.0",
            "_model_name": "HBoxModel",
            "_view_count": null,
            "_view_module": "@jupyter-widgets/controls",
            "_view_module_version": "1.5.0",
            "_view_name": "HBoxView",
            "box_style": "",
            "children": [
              "IPY_MODEL_a2e1596e8d524199b80d5561cef96d2d",
              "IPY_MODEL_5eb2718559ec4bbb90e05ad290409acf",
              "IPY_MODEL_bba148c370104f17925483da6959de5a"
            ],
            "layout": "IPY_MODEL_8feaf8c22706470498423c3d812b90f7"
          }
        },
        "a2e1596e8d524199b80d5561cef96d2d": {
          "model_module": "@jupyter-widgets/controls",
          "model_name": "HTMLModel",
          "model_module_version": "1.5.0",
          "state": {
            "_dom_classes": [],
            "_model_module": "@jupyter-widgets/controls",
            "_model_module_version": "1.5.0",
            "_model_name": "HTMLModel",
            "_view_count": null,
            "_view_module": "@jupyter-widgets/controls",
            "_view_module_version": "1.5.0",
            "_view_name": "HTMLView",
            "description": "",
            "description_tooltip": null,
            "layout": "IPY_MODEL_8ebe458833464a2cacc1e08107e1f96a",
            "placeholder": "​",
            "style": "IPY_MODEL_cea99b8b44e84af796478253346f03b8",
            "value": "Epoch 2/4: 100%"
          }
        },
        "5eb2718559ec4bbb90e05ad290409acf": {
          "model_module": "@jupyter-widgets/controls",
          "model_name": "FloatProgressModel",
          "model_module_version": "1.5.0",
          "state": {
            "_dom_classes": [],
            "_model_module": "@jupyter-widgets/controls",
            "_model_module_version": "1.5.0",
            "_model_name": "FloatProgressModel",
            "_view_count": null,
            "_view_module": "@jupyter-widgets/controls",
            "_view_module_version": "1.5.0",
            "_view_name": "ProgressView",
            "bar_style": "success",
            "description": "",
            "description_tooltip": null,
            "layout": "IPY_MODEL_e4eb20eff92a49e1be6e7229cbc2266e",
            "max": 9,
            "min": 0,
            "orientation": "horizontal",
            "style": "IPY_MODEL_dc16b0c1ba804205a27ac70df72dc5e8",
            "value": 9
          }
        },
        "bba148c370104f17925483da6959de5a": {
          "model_module": "@jupyter-widgets/controls",
          "model_name": "HTMLModel",
          "model_module_version": "1.5.0",
          "state": {
            "_dom_classes": [],
            "_model_module": "@jupyter-widgets/controls",
            "_model_module_version": "1.5.0",
            "_model_name": "HTMLModel",
            "_view_count": null,
            "_view_module": "@jupyter-widgets/controls",
            "_view_module_version": "1.5.0",
            "_view_name": "HTMLView",
            "description": "",
            "description_tooltip": null,
            "layout": "IPY_MODEL_6fa468ad0b7a494db082beac13e2ae48",
            "placeholder": "​",
            "style": "IPY_MODEL_3efdb97f967a477489fd0d95201e2964",
            "value": " 9/9 [00:31&lt;00:00,  3.20s/it, loss=6.86, perplexity=950]"
          }
        },
        "8feaf8c22706470498423c3d812b90f7": {
          "model_module": "@jupyter-widgets/base",
          "model_name": "LayoutModel",
          "model_module_version": "1.2.0",
          "state": {
            "_model_module": "@jupyter-widgets/base",
            "_model_module_version": "1.2.0",
            "_model_name": "LayoutModel",
            "_view_count": null,
            "_view_module": "@jupyter-widgets/base",
            "_view_module_version": "1.2.0",
            "_view_name": "LayoutView",
            "align_content": null,
            "align_items": null,
            "align_self": null,
            "border": null,
            "bottom": null,
            "display": null,
            "flex": null,
            "flex_flow": null,
            "grid_area": null,
            "grid_auto_columns": null,
            "grid_auto_flow": null,
            "grid_auto_rows": null,
            "grid_column": null,
            "grid_gap": null,
            "grid_row": null,
            "grid_template_areas": null,
            "grid_template_columns": null,
            "grid_template_rows": null,
            "height": null,
            "justify_content": null,
            "justify_items": null,
            "left": null,
            "margin": null,
            "max_height": null,
            "max_width": null,
            "min_height": null,
            "min_width": null,
            "object_fit": null,
            "object_position": null,
            "order": null,
            "overflow": null,
            "overflow_x": null,
            "overflow_y": null,
            "padding": null,
            "right": null,
            "top": null,
            "visibility": null,
            "width": null
          }
        },
        "8ebe458833464a2cacc1e08107e1f96a": {
          "model_module": "@jupyter-widgets/base",
          "model_name": "LayoutModel",
          "model_module_version": "1.2.0",
          "state": {
            "_model_module": "@jupyter-widgets/base",
            "_model_module_version": "1.2.0",
            "_model_name": "LayoutModel",
            "_view_count": null,
            "_view_module": "@jupyter-widgets/base",
            "_view_module_version": "1.2.0",
            "_view_name": "LayoutView",
            "align_content": null,
            "align_items": null,
            "align_self": null,
            "border": null,
            "bottom": null,
            "display": null,
            "flex": null,
            "flex_flow": null,
            "grid_area": null,
            "grid_auto_columns": null,
            "grid_auto_flow": null,
            "grid_auto_rows": null,
            "grid_column": null,
            "grid_gap": null,
            "grid_row": null,
            "grid_template_areas": null,
            "grid_template_columns": null,
            "grid_template_rows": null,
            "height": null,
            "justify_content": null,
            "justify_items": null,
            "left": null,
            "margin": null,
            "max_height": null,
            "max_width": null,
            "min_height": null,
            "min_width": null,
            "object_fit": null,
            "object_position": null,
            "order": null,
            "overflow": null,
            "overflow_x": null,
            "overflow_y": null,
            "padding": null,
            "right": null,
            "top": null,
            "visibility": null,
            "width": null
          }
        },
        "cea99b8b44e84af796478253346f03b8": {
          "model_module": "@jupyter-widgets/controls",
          "model_name": "DescriptionStyleModel",
          "model_module_version": "1.5.0",
          "state": {
            "_model_module": "@jupyter-widgets/controls",
            "_model_module_version": "1.5.0",
            "_model_name": "DescriptionStyleModel",
            "_view_count": null,
            "_view_module": "@jupyter-widgets/base",
            "_view_module_version": "1.2.0",
            "_view_name": "StyleView",
            "description_width": ""
          }
        },
        "e4eb20eff92a49e1be6e7229cbc2266e": {
          "model_module": "@jupyter-widgets/base",
          "model_name": "LayoutModel",
          "model_module_version": "1.2.0",
          "state": {
            "_model_module": "@jupyter-widgets/base",
            "_model_module_version": "1.2.0",
            "_model_name": "LayoutModel",
            "_view_count": null,
            "_view_module": "@jupyter-widgets/base",
            "_view_module_version": "1.2.0",
            "_view_name": "LayoutView",
            "align_content": null,
            "align_items": null,
            "align_self": null,
            "border": null,
            "bottom": null,
            "display": null,
            "flex": null,
            "flex_flow": null,
            "grid_area": null,
            "grid_auto_columns": null,
            "grid_auto_flow": null,
            "grid_auto_rows": null,
            "grid_column": null,
            "grid_gap": null,
            "grid_row": null,
            "grid_template_areas": null,
            "grid_template_columns": null,
            "grid_template_rows": null,
            "height": null,
            "justify_content": null,
            "justify_items": null,
            "left": null,
            "margin": null,
            "max_height": null,
            "max_width": null,
            "min_height": null,
            "min_width": null,
            "object_fit": null,
            "object_position": null,
            "order": null,
            "overflow": null,
            "overflow_x": null,
            "overflow_y": null,
            "padding": null,
            "right": null,
            "top": null,
            "visibility": null,
            "width": null
          }
        },
        "dc16b0c1ba804205a27ac70df72dc5e8": {
          "model_module": "@jupyter-widgets/controls",
          "model_name": "ProgressStyleModel",
          "model_module_version": "1.5.0",
          "state": {
            "_model_module": "@jupyter-widgets/controls",
            "_model_module_version": "1.5.0",
            "_model_name": "ProgressStyleModel",
            "_view_count": null,
            "_view_module": "@jupyter-widgets/base",
            "_view_module_version": "1.2.0",
            "_view_name": "StyleView",
            "bar_color": null,
            "description_width": ""
          }
        },
        "6fa468ad0b7a494db082beac13e2ae48": {
          "model_module": "@jupyter-widgets/base",
          "model_name": "LayoutModel",
          "model_module_version": "1.2.0",
          "state": {
            "_model_module": "@jupyter-widgets/base",
            "_model_module_version": "1.2.0",
            "_model_name": "LayoutModel",
            "_view_count": null,
            "_view_module": "@jupyter-widgets/base",
            "_view_module_version": "1.2.0",
            "_view_name": "LayoutView",
            "align_content": null,
            "align_items": null,
            "align_self": null,
            "border": null,
            "bottom": null,
            "display": null,
            "flex": null,
            "flex_flow": null,
            "grid_area": null,
            "grid_auto_columns": null,
            "grid_auto_flow": null,
            "grid_auto_rows": null,
            "grid_column": null,
            "grid_gap": null,
            "grid_row": null,
            "grid_template_areas": null,
            "grid_template_columns": null,
            "grid_template_rows": null,
            "height": null,
            "justify_content": null,
            "justify_items": null,
            "left": null,
            "margin": null,
            "max_height": null,
            "max_width": null,
            "min_height": null,
            "min_width": null,
            "object_fit": null,
            "object_position": null,
            "order": null,
            "overflow": null,
            "overflow_x": null,
            "overflow_y": null,
            "padding": null,
            "right": null,
            "top": null,
            "visibility": null,
            "width": null
          }
        },
        "3efdb97f967a477489fd0d95201e2964": {
          "model_module": "@jupyter-widgets/controls",
          "model_name": "DescriptionStyleModel",
          "model_module_version": "1.5.0",
          "state": {
            "_model_module": "@jupyter-widgets/controls",
            "_model_module_version": "1.5.0",
            "_model_name": "DescriptionStyleModel",
            "_view_count": null,
            "_view_module": "@jupyter-widgets/base",
            "_view_module_version": "1.2.0",
            "_view_name": "StyleView",
            "description_width": ""
          }
        },
        "7af25e784aa64b918598d7b6f9985274": {
          "model_module": "@jupyter-widgets/controls",
          "model_name": "HBoxModel",
          "model_module_version": "1.5.0",
          "state": {
            "_dom_classes": [],
            "_model_module": "@jupyter-widgets/controls",
            "_model_module_version": "1.5.0",
            "_model_name": "HBoxModel",
            "_view_count": null,
            "_view_module": "@jupyter-widgets/controls",
            "_view_module_version": "1.5.0",
            "_view_name": "HBoxView",
            "box_style": "",
            "children": [
              "IPY_MODEL_b60c0f982c9d47ada5bc56bee27f3de1",
              "IPY_MODEL_98e937f814734039a866b52f556b77fb",
              "IPY_MODEL_76fd22e471d54204b6cebe16524c38a0"
            ],
            "layout": "IPY_MODEL_b425aad505a74afe88c26fc97f19fe22"
          }
        },
        "b60c0f982c9d47ada5bc56bee27f3de1": {
          "model_module": "@jupyter-widgets/controls",
          "model_name": "HTMLModel",
          "model_module_version": "1.5.0",
          "state": {
            "_dom_classes": [],
            "_model_module": "@jupyter-widgets/controls",
            "_model_module_version": "1.5.0",
            "_model_name": "HTMLModel",
            "_view_count": null,
            "_view_module": "@jupyter-widgets/controls",
            "_view_module_version": "1.5.0",
            "_view_name": "HTMLView",
            "description": "",
            "description_tooltip": null,
            "layout": "IPY_MODEL_cd997830dedb47beb45e29b910c1e20a",
            "placeholder": "​",
            "style": "IPY_MODEL_66f0514de7df458182c3135b1615298a",
            "value": "Epoch 3/4: 100%"
          }
        },
        "98e937f814734039a866b52f556b77fb": {
          "model_module": "@jupyter-widgets/controls",
          "model_name": "FloatProgressModel",
          "model_module_version": "1.5.0",
          "state": {
            "_dom_classes": [],
            "_model_module": "@jupyter-widgets/controls",
            "_model_module_version": "1.5.0",
            "_model_name": "FloatProgressModel",
            "_view_count": null,
            "_view_module": "@jupyter-widgets/controls",
            "_view_module_version": "1.5.0",
            "_view_name": "ProgressView",
            "bar_style": "success",
            "description": "",
            "description_tooltip": null,
            "layout": "IPY_MODEL_3b80979edf794f21bae045dc64c59e05",
            "max": 9,
            "min": 0,
            "orientation": "horizontal",
            "style": "IPY_MODEL_418067979dc94feb9b710d70c6e70d9b",
            "value": 9
          }
        },
        "76fd22e471d54204b6cebe16524c38a0": {
          "model_module": "@jupyter-widgets/controls",
          "model_name": "HTMLModel",
          "model_module_version": "1.5.0",
          "state": {
            "_dom_classes": [],
            "_model_module": "@jupyter-widgets/controls",
            "_model_module_version": "1.5.0",
            "_model_name": "HTMLModel",
            "_view_count": null,
            "_view_module": "@jupyter-widgets/controls",
            "_view_module_version": "1.5.0",
            "_view_name": "HTMLView",
            "description": "",
            "description_tooltip": null,
            "layout": "IPY_MODEL_5efda19eb279461d8e55c01120508453",
            "placeholder": "​",
            "style": "IPY_MODEL_d100b95941334d868c460845ff4fdd78",
            "value": " 9/9 [00:33&lt;00:00,  3.23s/it, loss=nan, perplexity=nan]"
          }
        },
        "b425aad505a74afe88c26fc97f19fe22": {
          "model_module": "@jupyter-widgets/base",
          "model_name": "LayoutModel",
          "model_module_version": "1.2.0",
          "state": {
            "_model_module": "@jupyter-widgets/base",
            "_model_module_version": "1.2.0",
            "_model_name": "LayoutModel",
            "_view_count": null,
            "_view_module": "@jupyter-widgets/base",
            "_view_module_version": "1.2.0",
            "_view_name": "LayoutView",
            "align_content": null,
            "align_items": null,
            "align_self": null,
            "border": null,
            "bottom": null,
            "display": null,
            "flex": null,
            "flex_flow": null,
            "grid_area": null,
            "grid_auto_columns": null,
            "grid_auto_flow": null,
            "grid_auto_rows": null,
            "grid_column": null,
            "grid_gap": null,
            "grid_row": null,
            "grid_template_areas": null,
            "grid_template_columns": null,
            "grid_template_rows": null,
            "height": null,
            "justify_content": null,
            "justify_items": null,
            "left": null,
            "margin": null,
            "max_height": null,
            "max_width": null,
            "min_height": null,
            "min_width": null,
            "object_fit": null,
            "object_position": null,
            "order": null,
            "overflow": null,
            "overflow_x": null,
            "overflow_y": null,
            "padding": null,
            "right": null,
            "top": null,
            "visibility": null,
            "width": null
          }
        },
        "cd997830dedb47beb45e29b910c1e20a": {
          "model_module": "@jupyter-widgets/base",
          "model_name": "LayoutModel",
          "model_module_version": "1.2.0",
          "state": {
            "_model_module": "@jupyter-widgets/base",
            "_model_module_version": "1.2.0",
            "_model_name": "LayoutModel",
            "_view_count": null,
            "_view_module": "@jupyter-widgets/base",
            "_view_module_version": "1.2.0",
            "_view_name": "LayoutView",
            "align_content": null,
            "align_items": null,
            "align_self": null,
            "border": null,
            "bottom": null,
            "display": null,
            "flex": null,
            "flex_flow": null,
            "grid_area": null,
            "grid_auto_columns": null,
            "grid_auto_flow": null,
            "grid_auto_rows": null,
            "grid_column": null,
            "grid_gap": null,
            "grid_row": null,
            "grid_template_areas": null,
            "grid_template_columns": null,
            "grid_template_rows": null,
            "height": null,
            "justify_content": null,
            "justify_items": null,
            "left": null,
            "margin": null,
            "max_height": null,
            "max_width": null,
            "min_height": null,
            "min_width": null,
            "object_fit": null,
            "object_position": null,
            "order": null,
            "overflow": null,
            "overflow_x": null,
            "overflow_y": null,
            "padding": null,
            "right": null,
            "top": null,
            "visibility": null,
            "width": null
          }
        },
        "66f0514de7df458182c3135b1615298a": {
          "model_module": "@jupyter-widgets/controls",
          "model_name": "DescriptionStyleModel",
          "model_module_version": "1.5.0",
          "state": {
            "_model_module": "@jupyter-widgets/controls",
            "_model_module_version": "1.5.0",
            "_model_name": "DescriptionStyleModel",
            "_view_count": null,
            "_view_module": "@jupyter-widgets/base",
            "_view_module_version": "1.2.0",
            "_view_name": "StyleView",
            "description_width": ""
          }
        },
        "3b80979edf794f21bae045dc64c59e05": {
          "model_module": "@jupyter-widgets/base",
          "model_name": "LayoutModel",
          "model_module_version": "1.2.0",
          "state": {
            "_model_module": "@jupyter-widgets/base",
            "_model_module_version": "1.2.0",
            "_model_name": "LayoutModel",
            "_view_count": null,
            "_view_module": "@jupyter-widgets/base",
            "_view_module_version": "1.2.0",
            "_view_name": "LayoutView",
            "align_content": null,
            "align_items": null,
            "align_self": null,
            "border": null,
            "bottom": null,
            "display": null,
            "flex": null,
            "flex_flow": null,
            "grid_area": null,
            "grid_auto_columns": null,
            "grid_auto_flow": null,
            "grid_auto_rows": null,
            "grid_column": null,
            "grid_gap": null,
            "grid_row": null,
            "grid_template_areas": null,
            "grid_template_columns": null,
            "grid_template_rows": null,
            "height": null,
            "justify_content": null,
            "justify_items": null,
            "left": null,
            "margin": null,
            "max_height": null,
            "max_width": null,
            "min_height": null,
            "min_width": null,
            "object_fit": null,
            "object_position": null,
            "order": null,
            "overflow": null,
            "overflow_x": null,
            "overflow_y": null,
            "padding": null,
            "right": null,
            "top": null,
            "visibility": null,
            "width": null
          }
        },
        "418067979dc94feb9b710d70c6e70d9b": {
          "model_module": "@jupyter-widgets/controls",
          "model_name": "ProgressStyleModel",
          "model_module_version": "1.5.0",
          "state": {
            "_model_module": "@jupyter-widgets/controls",
            "_model_module_version": "1.5.0",
            "_model_name": "ProgressStyleModel",
            "_view_count": null,
            "_view_module": "@jupyter-widgets/base",
            "_view_module_version": "1.2.0",
            "_view_name": "StyleView",
            "bar_color": null,
            "description_width": ""
          }
        },
        "5efda19eb279461d8e55c01120508453": {
          "model_module": "@jupyter-widgets/base",
          "model_name": "LayoutModel",
          "model_module_version": "1.2.0",
          "state": {
            "_model_module": "@jupyter-widgets/base",
            "_model_module_version": "1.2.0",
            "_model_name": "LayoutModel",
            "_view_count": null,
            "_view_module": "@jupyter-widgets/base",
            "_view_module_version": "1.2.0",
            "_view_name": "LayoutView",
            "align_content": null,
            "align_items": null,
            "align_self": null,
            "border": null,
            "bottom": null,
            "display": null,
            "flex": null,
            "flex_flow": null,
            "grid_area": null,
            "grid_auto_columns": null,
            "grid_auto_flow": null,
            "grid_auto_rows": null,
            "grid_column": null,
            "grid_gap": null,
            "grid_row": null,
            "grid_template_areas": null,
            "grid_template_columns": null,
            "grid_template_rows": null,
            "height": null,
            "justify_content": null,
            "justify_items": null,
            "left": null,
            "margin": null,
            "max_height": null,
            "max_width": null,
            "min_height": null,
            "min_width": null,
            "object_fit": null,
            "object_position": null,
            "order": null,
            "overflow": null,
            "overflow_x": null,
            "overflow_y": null,
            "padding": null,
            "right": null,
            "top": null,
            "visibility": null,
            "width": null
          }
        },
        "d100b95941334d868c460845ff4fdd78": {
          "model_module": "@jupyter-widgets/controls",
          "model_name": "DescriptionStyleModel",
          "model_module_version": "1.5.0",
          "state": {
            "_model_module": "@jupyter-widgets/controls",
            "_model_module_version": "1.5.0",
            "_model_name": "DescriptionStyleModel",
            "_view_count": null,
            "_view_module": "@jupyter-widgets/base",
            "_view_module_version": "1.2.0",
            "_view_name": "StyleView",
            "description_width": ""
          }
        },
        "a9bfb2e76adf474ebb0a361a040826a8": {
          "model_module": "@jupyter-widgets/controls",
          "model_name": "HBoxModel",
          "model_module_version": "1.5.0",
          "state": {
            "_dom_classes": [],
            "_model_module": "@jupyter-widgets/controls",
            "_model_module_version": "1.5.0",
            "_model_name": "HBoxModel",
            "_view_count": null,
            "_view_module": "@jupyter-widgets/controls",
            "_view_module_version": "1.5.0",
            "_view_name": "HBoxView",
            "box_style": "",
            "children": [
              "IPY_MODEL_1dde4cd355bc4e839b099c3d206fb972",
              "IPY_MODEL_52dd3b5c6b1c44e698efe43d2306cf8f",
              "IPY_MODEL_c5adbed863c24b2aaa05e1aee05ed96e"
            ],
            "layout": "IPY_MODEL_6b671de1163b4ea9882db66043ecad5c"
          }
        },
        "1dde4cd355bc4e839b099c3d206fb972": {
          "model_module": "@jupyter-widgets/controls",
          "model_name": "HTMLModel",
          "model_module_version": "1.5.0",
          "state": {
            "_dom_classes": [],
            "_model_module": "@jupyter-widgets/controls",
            "_model_module_version": "1.5.0",
            "_model_name": "HTMLModel",
            "_view_count": null,
            "_view_module": "@jupyter-widgets/controls",
            "_view_module_version": "1.5.0",
            "_view_name": "HTMLView",
            "description": "",
            "description_tooltip": null,
            "layout": "IPY_MODEL_1445c55270014c4da63596dd4d00e90d",
            "placeholder": "​",
            "style": "IPY_MODEL_5b43ceb61b454f63b9c70a9ab2e22a2c",
            "value": "Epoch 4/4: 100%"
          }
        },
        "52dd3b5c6b1c44e698efe43d2306cf8f": {
          "model_module": "@jupyter-widgets/controls",
          "model_name": "FloatProgressModel",
          "model_module_version": "1.5.0",
          "state": {
            "_dom_classes": [],
            "_model_module": "@jupyter-widgets/controls",
            "_model_module_version": "1.5.0",
            "_model_name": "FloatProgressModel",
            "_view_count": null,
            "_view_module": "@jupyter-widgets/controls",
            "_view_module_version": "1.5.0",
            "_view_name": "ProgressView",
            "bar_style": "success",
            "description": "",
            "description_tooltip": null,
            "layout": "IPY_MODEL_e98bd04c369c49edbd0ffab20ec498ac",
            "max": 9,
            "min": 0,
            "orientation": "horizontal",
            "style": "IPY_MODEL_96095862c8b444648dbdb37b67bdec3e",
            "value": 9
          }
        },
        "c5adbed863c24b2aaa05e1aee05ed96e": {
          "model_module": "@jupyter-widgets/controls",
          "model_name": "HTMLModel",
          "model_module_version": "1.5.0",
          "state": {
            "_dom_classes": [],
            "_model_module": "@jupyter-widgets/controls",
            "_model_module_version": "1.5.0",
            "_model_name": "HTMLModel",
            "_view_count": null,
            "_view_module": "@jupyter-widgets/controls",
            "_view_module_version": "1.5.0",
            "_view_name": "HTMLView",
            "description": "",
            "description_tooltip": null,
            "layout": "IPY_MODEL_3ee6507d8a2b463793bee439be649cc0",
            "placeholder": "​",
            "style": "IPY_MODEL_a02b50bf62e6406ea71f3411edf057f6",
            "value": " 9/9 [00:33&lt;00:00,  3.23s/it, loss=8.16, perplexity=3.49e+3]"
          }
        },
        "6b671de1163b4ea9882db66043ecad5c": {
          "model_module": "@jupyter-widgets/base",
          "model_name": "LayoutModel",
          "model_module_version": "1.2.0",
          "state": {
            "_model_module": "@jupyter-widgets/base",
            "_model_module_version": "1.2.0",
            "_model_name": "LayoutModel",
            "_view_count": null,
            "_view_module": "@jupyter-widgets/base",
            "_view_module_version": "1.2.0",
            "_view_name": "LayoutView",
            "align_content": null,
            "align_items": null,
            "align_self": null,
            "border": null,
            "bottom": null,
            "display": null,
            "flex": null,
            "flex_flow": null,
            "grid_area": null,
            "grid_auto_columns": null,
            "grid_auto_flow": null,
            "grid_auto_rows": null,
            "grid_column": null,
            "grid_gap": null,
            "grid_row": null,
            "grid_template_areas": null,
            "grid_template_columns": null,
            "grid_template_rows": null,
            "height": null,
            "justify_content": null,
            "justify_items": null,
            "left": null,
            "margin": null,
            "max_height": null,
            "max_width": null,
            "min_height": null,
            "min_width": null,
            "object_fit": null,
            "object_position": null,
            "order": null,
            "overflow": null,
            "overflow_x": null,
            "overflow_y": null,
            "padding": null,
            "right": null,
            "top": null,
            "visibility": null,
            "width": null
          }
        },
        "1445c55270014c4da63596dd4d00e90d": {
          "model_module": "@jupyter-widgets/base",
          "model_name": "LayoutModel",
          "model_module_version": "1.2.0",
          "state": {
            "_model_module": "@jupyter-widgets/base",
            "_model_module_version": "1.2.0",
            "_model_name": "LayoutModel",
            "_view_count": null,
            "_view_module": "@jupyter-widgets/base",
            "_view_module_version": "1.2.0",
            "_view_name": "LayoutView",
            "align_content": null,
            "align_items": null,
            "align_self": null,
            "border": null,
            "bottom": null,
            "display": null,
            "flex": null,
            "flex_flow": null,
            "grid_area": null,
            "grid_auto_columns": null,
            "grid_auto_flow": null,
            "grid_auto_rows": null,
            "grid_column": null,
            "grid_gap": null,
            "grid_row": null,
            "grid_template_areas": null,
            "grid_template_columns": null,
            "grid_template_rows": null,
            "height": null,
            "justify_content": null,
            "justify_items": null,
            "left": null,
            "margin": null,
            "max_height": null,
            "max_width": null,
            "min_height": null,
            "min_width": null,
            "object_fit": null,
            "object_position": null,
            "order": null,
            "overflow": null,
            "overflow_x": null,
            "overflow_y": null,
            "padding": null,
            "right": null,
            "top": null,
            "visibility": null,
            "width": null
          }
        },
        "5b43ceb61b454f63b9c70a9ab2e22a2c": {
          "model_module": "@jupyter-widgets/controls",
          "model_name": "DescriptionStyleModel",
          "model_module_version": "1.5.0",
          "state": {
            "_model_module": "@jupyter-widgets/controls",
            "_model_module_version": "1.5.0",
            "_model_name": "DescriptionStyleModel",
            "_view_count": null,
            "_view_module": "@jupyter-widgets/base",
            "_view_module_version": "1.2.0",
            "_view_name": "StyleView",
            "description_width": ""
          }
        },
        "e98bd04c369c49edbd0ffab20ec498ac": {
          "model_module": "@jupyter-widgets/base",
          "model_name": "LayoutModel",
          "model_module_version": "1.2.0",
          "state": {
            "_model_module": "@jupyter-widgets/base",
            "_model_module_version": "1.2.0",
            "_model_name": "LayoutModel",
            "_view_count": null,
            "_view_module": "@jupyter-widgets/base",
            "_view_module_version": "1.2.0",
            "_view_name": "LayoutView",
            "align_content": null,
            "align_items": null,
            "align_self": null,
            "border": null,
            "bottom": null,
            "display": null,
            "flex": null,
            "flex_flow": null,
            "grid_area": null,
            "grid_auto_columns": null,
            "grid_auto_flow": null,
            "grid_auto_rows": null,
            "grid_column": null,
            "grid_gap": null,
            "grid_row": null,
            "grid_template_areas": null,
            "grid_template_columns": null,
            "grid_template_rows": null,
            "height": null,
            "justify_content": null,
            "justify_items": null,
            "left": null,
            "margin": null,
            "max_height": null,
            "max_width": null,
            "min_height": null,
            "min_width": null,
            "object_fit": null,
            "object_position": null,
            "order": null,
            "overflow": null,
            "overflow_x": null,
            "overflow_y": null,
            "padding": null,
            "right": null,
            "top": null,
            "visibility": null,
            "width": null
          }
        },
        "96095862c8b444648dbdb37b67bdec3e": {
          "model_module": "@jupyter-widgets/controls",
          "model_name": "ProgressStyleModel",
          "model_module_version": "1.5.0",
          "state": {
            "_model_module": "@jupyter-widgets/controls",
            "_model_module_version": "1.5.0",
            "_model_name": "ProgressStyleModel",
            "_view_count": null,
            "_view_module": "@jupyter-widgets/base",
            "_view_module_version": "1.2.0",
            "_view_name": "StyleView",
            "bar_color": null,
            "description_width": ""
          }
        },
        "3ee6507d8a2b463793bee439be649cc0": {
          "model_module": "@jupyter-widgets/base",
          "model_name": "LayoutModel",
          "model_module_version": "1.2.0",
          "state": {
            "_model_module": "@jupyter-widgets/base",
            "_model_module_version": "1.2.0",
            "_model_name": "LayoutModel",
            "_view_count": null,
            "_view_module": "@jupyter-widgets/base",
            "_view_module_version": "1.2.0",
            "_view_name": "LayoutView",
            "align_content": null,
            "align_items": null,
            "align_self": null,
            "border": null,
            "bottom": null,
            "display": null,
            "flex": null,
            "flex_flow": null,
            "grid_area": null,
            "grid_auto_columns": null,
            "grid_auto_flow": null,
            "grid_auto_rows": null,
            "grid_column": null,
            "grid_gap": null,
            "grid_row": null,
            "grid_template_areas": null,
            "grid_template_columns": null,
            "grid_template_rows": null,
            "height": null,
            "justify_content": null,
            "justify_items": null,
            "left": null,
            "margin": null,
            "max_height": null,
            "max_width": null,
            "min_height": null,
            "min_width": null,
            "object_fit": null,
            "object_position": null,
            "order": null,
            "overflow": null,
            "overflow_x": null,
            "overflow_y": null,
            "padding": null,
            "right": null,
            "top": null,
            "visibility": null,
            "width": null
          }
        },
        "a02b50bf62e6406ea71f3411edf057f6": {
          "model_module": "@jupyter-widgets/controls",
          "model_name": "DescriptionStyleModel",
          "model_module_version": "1.5.0",
          "state": {
            "_model_module": "@jupyter-widgets/controls",
            "_model_module_version": "1.5.0",
            "_model_name": "DescriptionStyleModel",
            "_view_count": null,
            "_view_module": "@jupyter-widgets/base",
            "_view_module_version": "1.2.0",
            "_view_name": "StyleView",
            "description_width": ""
          }
        }
      }
    }
  },
  "cells": [
    {
      "cell_type": "code",
      "source": [
        "from transformers import BertTokenizer, BertForMaskedLM\n",
        "from transformers import AdamW\n",
        "import torch\n",
        "from tqdm.auto import tqdm\n",
        "from transformers import DataCollatorForLanguageModeling\n",
        "import matplotlib.pyplot as plt\n",
        "%matplotlib inline\n",
        "import math"
      ],
      "metadata": {
        "id": "dd4mqY0qaNo0"
      },
      "execution_count": 121,
      "outputs": []
    },
    {
      "cell_type": "code",
      "source": [
        "sikubert_model_path = \"SIKU-BERT/sikubert\"\n",
        "\n",
        "tokenizer = BertTokenizer.from_pretrained(sikubert_model_path)\n",
        "model = BertForMaskedLM.from_pretrained(sikubert_model_path)"
      ],
      "metadata": {
        "colab": {
          "base_uri": "https://localhost:8080/"
        },
        "id": "68_gx_yfgNmd",
        "outputId": "aaee30c7-ba19-49f8-86c4-13dd9442d478"
      },
      "execution_count": 92,
      "outputs": [
        {
          "output_type": "stream",
          "name": "stderr",
          "text": [
            "Some weights of the model checkpoint at SIKU-BERT/sikubert were not used when initializing BertForMaskedLM: ['bert.pooler.dense.bias', 'bert.pooler.dense.weight']\n",
            "- This IS expected if you are initializing BertForMaskedLM from the checkpoint of a model trained on another task or with another architecture (e.g. initializing a BertForSequenceClassification model from a BertForPreTraining model).\n",
            "- This IS NOT expected if you are initializing BertForMaskedLM from the checkpoint of a model that you expect to be exactly identical (initializing a BertForSequenceClassification model from a BertForSequenceClassification model).\n"
          ]
        }
      ]
    },
    {
      "cell_type": "code",
      "source": [
        "nom_vocab_file = 'vocab_Han_Nom.txt'\n",
        "with open(nom_vocab_file, 'r', encoding='utf-8') as f:\n",
        "    nom_vocab = [line.strip() for line in f.readlines()]"
      ],
      "metadata": {
        "id": "n03ZqZ7wgstV"
      },
      "execution_count": 93,
      "outputs": []
    },
    {
      "cell_type": "code",
      "source": [
        "num_added_tokens = tokenizer.add_tokens(nom_vocab)\n",
        "model.resize_token_embeddings(len(tokenizer))"
      ],
      "metadata": {
        "colab": {
          "base_uri": "https://localhost:8080/"
        },
        "id": "kznEZae8gxcg",
        "outputId": "fb683d4f-7e85-41af-8dd1-0174ee6d7a10"
      },
      "execution_count": 94,
      "outputs": [
        {
          "output_type": "execute_result",
          "data": {
            "text/plain": [
              "Embedding(46119, 768, padding_idx=0)"
            ]
          },
          "metadata": {},
          "execution_count": 94
        }
      ]
    },
    {
      "cell_type": "code",
      "source": [
        "sample_sentences = [\n",
        "    \"𠄎𠂤𡿨𡯨\",\n",
        "    \"民浪屡奴群低\",\n",
        "    \"戈䀡󰘚倍踈兮㐌仃\"\n",
        "]\n",
        "\n",
        "for sentence in sample_sentences:\n",
        "    tokens = tokenizer.tokenize(sentence)\n",
        "    token_ids = tokenizer.convert_tokens_to_ids(tokens)\n",
        "    print(f\"Câu: {sentence}\")\n",
        "    print(f\"Tokens: {tokens}\")\n",
        "    print(f\"Token IDs: {token_ids}\")\n",
        "    print(\"-\" * 50)"
      ],
      "metadata": {
        "id": "dAkSvO59hBl7",
        "colab": {
          "base_uri": "https://localhost:8080/"
        },
        "outputId": "853fc0e8-5e37-4a26-811c-485d149c08fc"
      },
      "execution_count": 134,
      "outputs": [
        {
          "output_type": "stream",
          "name": "stdout",
          "text": [
            "Câu: 𠄎𠂤𡿨𡯨\n",
            "Tokens: ['[UNK]', '[UNK]', '[UNK]', '[UNK]']\n",
            "Token IDs: [100, 100, 100, 100]\n",
            "--------------------------------------------------\n",
            "Câu: 民浪屡奴群低\n",
            "Tokens: ['民', '浪', '屡', '奴', '群', '低']\n",
            "Token IDs: [3696, 3857, 2249, 1958, 5408, 856]\n",
            "--------------------------------------------------\n",
            "Câu: 戈䀡󰘚倍踈兮㐌仃\n",
            "Tokens: ['戈', '䀡', '\\U000f061a', '倍', '踈', '兮', '㐌', '仃']\n",
            "Token IDs: [2762, 30277, 43993, 945, 24274, 1064, 29811, 786]\n",
            "--------------------------------------------------\n"
          ]
        }
      ]
    },
    {
      "cell_type": "code",
      "source": [
        "# tokenizer.save_pretrained(save_model_path)\n",
        "# model.save_pretrained(save_model_path)"
      ],
      "metadata": {
        "id": "WIJVDPUhg3rf"
      },
      "execution_count": 96,
      "outputs": []
    },
    {
      "cell_type": "code",
      "source": [
        "test_data = 'test_Dataset.txt'\n",
        "\n",
        "with open(test_data, 'r', encoding='utf-8') as f:\n",
        "    _data = [line.strip() for line in f.readlines()]\n",
        "    print(_data)"
      ],
      "metadata": {
        "colab": {
          "base_uri": "https://localhost:8080/"
        },
        "id": "qvY4bNCX0JlA",
        "outputId": "d29c302d-e8ea-4d2e-9678-b7c8d9b9ed3e"
      },
      "execution_count": 97,
      "outputs": [
        {
          "output_type": "stream",
          "name": "stdout",
          "text": [
            "['畧畑䀡傳西銘', '𡄎唭𠄩𡦂人情喓𠻗', '埃匕𠳺匕麻𦖑', '𡨺噒役畧苓𠽮身𡢐', '𤳆辰忠孝\\U0002b735頭', '𡛔辰節行\\U00031eb5句捞𨉓', '固𠊛扵郡東城', '修仁積\\U00031429\\U000318ad生昆䝨', '達𠸜\\U00031eb5陸雲仙', '歲𣃣𠄩糁芸專斈行', '蹺柴𤍇史𥸷經', '𣎃㝵包𬋩功程劳刀', '文它起鳳滕雲', '武添叁畧六韜埃皮', '𠫾䀡\\U00032247会科詩', '雲仙𠓨謝尊師𦋦𧗱', '閉𥹰\\U0003223e圣預掑', '㐌鮮氣象吏吹精神', '𫢩它及会風雲', '𠊛匕埃拱立身貝尼', '志𭸓𢏑鴈边𩄲', '名碎㐌𤎜㗂柴屯賖', '\\U0002b735𤳆𥪝𡎝𠊛些', '畧卢報補𡢐\\U00031eb5顕荣', '尊師欺意論盘', '𡄎𥪝𢼂係科塲群賖', '𢵯𢈱\\U000f0778敢呐𠚢', '吹柴傷伵㤕車𥪝𢚸', '𡢐油訴浽濁冲', '沛朱𠬠法底防𫉚身', '𣈙昆𠖈准風\\U000315a6', '柴朱𠀧道符神\\U000f0761蹺', '\\U000f0778埋麻及𠯿𠨪', '𠖈滝供𠊡𨖲𰎉拱安', '尊師𠓨准後堂', '雲仙魚謹𢚸強生𪟽', '\\U000f0778咍𨉓嗼役之', '\\U000f0cb9師𠊛𠰺科期群賖', '𠬠\\U00031eb5貝\\U00031e7b𭛣茄', '𠄩\\U00031eb5\\U00031429泊𠀧\\U00031eb5才踈', '闭𥹰\\U000f0cba飭詩書', '会尼\\U000f0778及群除会芇', '盛衰\\U000f0778別\\U0002b735牢', '之朋哙吏理芇朱明', '𠓨䜹朱訢事情', '丕𡢐𠦳淡登程買安', '尊師𡓮唉咀嘆', '𥄭𠚢畧按𧡊払阻\\U0003137a', '哙浪萬里程途', '昆渚拮挭群\\U0003137a𭛣之', '咍\\U00031eb5昆唉胡𪟽', '柴盘𠬠𭛣科期群賖', '云仙𦖑呐連䜹', '小生庄別𬋟湄𠯿芇', '椿萱歲鶴㐌高', '吀柴排訢音毛朱詳', '尊師𦖑呐添傷', '𢩮𢬣\\U00031702準前堂䀡𦝄', '因机謀事𠴍浪', '𭛣𠊛\\U000f0778恪\\U000f061a𦝄𨕭𡗶', '雖浪㵢泣尼匕', '欺𤎎欺訢欺潙欺苔', '𡢐昆拱𤎜𭛣𠁀', '呂\\U00031eb5柴沛𣴓唎爫之', '𡢐昆𠄩𡦂科期', '斗星㐌𤎜紫微添和', '嫌爲馭唉群賖', '兎它路俸𬷤它𠰁散', '包徐朱細北方', '包徐﨤𤝞\\U00031702塘𢧚名', '𡢐油鄧𡦂顕荣', '\\U0003196f唎柴呐前程\\U000f0778差', '汝勾否極泰來', '𡨹𠇮朱援𭛣埃\\U000f0778潺', '雲仙倍且謝恩', '𤾓𠄼吀亘膠山𠬠𠳒', '\\U00031702𠫾𣃣尽蹎𡗶', '𠿯匕吏𥄭𠓨尼圣堂', '嘆浪天各一方', '柴王段慘伵王段愁', '管包𠇮\\U000f13a3解油', '芒帶子路掛瓢刘泠', '㝵芇亇渃及縁', '朗名昆討匪願碎𬆄', '計自昔淡細𫢩', '痗迷倂㐌闭迡衝霜', '兑𦖻風景添傷', '為匕淡娄裊塘群賖', '丿兜㐌細隣家', '畧\\U00031eb5探伴𡢐\\U00031eb5\\U000313a2蹎', '𭛣之𪡔哭熷𤇊', '調\\U000f0761饒𧼋𠓨棱𨑗𡽫', '仙浪各注拱昆', '𭛣之急足奔匕𧼋𢙇', '民浪小子\\U00031eb5昆', '咍\\U00031eb5𠬠屡山\\U00031f2b蹺些', '仙浪拠事爫牢', '吀柴𡮇㐌仕𢭂𠬠𢈱', '民𦖑㗂呐請台', '呌蹺𨅸吏𤑟𢈱分戈', '䜹浪固党娄\\U00031eb5', '𠸜\\U00031eb5杜預号\\U00031eb5風來', '𥱱饒扵准山\\U00031f2b', '𠊛調𢜝奴固才坤當', '悲徐都𠖈本鄕', '𧡊昆𡛔卒戈塘扒𠫾', '𥪝廊\\U000f0778敢呐之', '感傷𠄩婍女兒縸𮥷', '昆埃䏧玉𠇮鐄', '𦟐桃眉\\U000318ca容顔冷㳥', '𠲖欺及党行凶', '枉荘淑女生\\U000f0803匹夫', '崔匕渚呵呐𥹰', '𧼋𠫾朱塊矯敺細\\U000f0cc1', '雲仙浽陣雷霆', '哙探屡奴群仃尼芇', '碎吀𦋦飭英豪', '枚𠊛朱塊劳刀貝尼', '民浪屡奴群低', '戈䀡\\U000f061a倍踈兮㐌仃', '𠲖欺𪽗虎不成', '欺空𠇮吏墫𠇮𠓨𡎟', '雲仙𨅸吏边塘', '𢯏核爫梞[?]𠦳𧼋無', '呌浪唉党凶徒', '渚涓退与模糊害民', '風來\\U000f061a䚂𤇊匕', '繩芇麻敢礼凌𠓨低', '畧掑𭛣与在眉', '傳軍𦊚費補𡆫䈟蓬', '云仙左突右衝', '恪芇趙子越\\U000f044d当阳', '娄\\U00031eb5𦊚費𡲤散', '調挄劍敎𦋦塘𧼋𦖑']\n"
          ]
        }
      ]
    },
    {
      "cell_type": "code",
      "source": [
        "inputs = tokenizer(\n",
        "    _data,\n",
        "    return_tensors='pt',\n",
        "    truncation=True,\n",
        "    padding=True,\n",
        "    max_length=216,\n",
        ")"
      ],
      "metadata": {
        "id": "RA8QIl8HhF3n"
      },
      "execution_count": 98,
      "outputs": []
    },
    {
      "cell_type": "code",
      "source": [
        "inputs.keys()"
      ],
      "metadata": {
        "colab": {
          "base_uri": "https://localhost:8080/"
        },
        "id": "in3CHGWB0jXn",
        "outputId": "75641f25-f550-4357-aea2-15a27aacf8ed"
      },
      "execution_count": 99,
      "outputs": [
        {
          "output_type": "execute_result",
          "data": {
            "text/plain": [
              "dict_keys(['input_ids', 'token_type_ids', 'attention_mask'])"
            ]
          },
          "metadata": {},
          "execution_count": 99
        }
      ]
    },
    {
      "cell_type": "code",
      "source": [
        "labels = inputs['input_ids'].clone()\n",
        "labels[~masked_tensor] = -100  # Các vị trí không bị mask sẽ không được tính loss\n",
        "inputs['labels'] = labels"
      ],
      "metadata": {
        "id": "UhKSC4XV0pTH"
      },
      "execution_count": 100,
      "outputs": []
    },
    {
      "cell_type": "code",
      "source": [
        "inputs"
      ],
      "metadata": {
        "colab": {
          "base_uri": "https://localhost:8080/"
        },
        "id": "6J-7qBjY0z0L",
        "outputId": "6f7c426c-3ff6-4cd1-ce38-8dc04129eb66"
      },
      "execution_count": 101,
      "outputs": [
        {
          "output_type": "execute_result",
          "data": {
            "text/plain": [
              "{'input_ids': tensor([[  101, 21829,  4520,  ...,     0,     0,     0],\n",
              "        [  101, 36720, 27247,  ...,   102,     0,     0],\n",
              "        [  101,  1812,  1264,  ...,     0,     0,     0],\n",
              "        ...,\n",
              "        [  101,  2618, 25222,  ...,   102,     0,     0],\n",
              "        [  101,  2016, 43561,  ...,     0,     0,     0],\n",
              "        [  101,  6310, 31832,  ...,   102,     0,     0]]), 'token_type_ids': tensor([[0, 0, 0,  ..., 0, 0, 0],\n",
              "        [0, 0, 0,  ..., 0, 0, 0],\n",
              "        [0, 0, 0,  ..., 0, 0, 0],\n",
              "        ...,\n",
              "        [0, 0, 0,  ..., 0, 0, 0],\n",
              "        [0, 0, 0,  ..., 0, 0, 0],\n",
              "        [0, 0, 0,  ..., 0, 0, 0]]), 'attention_mask': tensor([[1, 1, 1,  ..., 0, 0, 0],\n",
              "        [1, 1, 1,  ..., 1, 0, 0],\n",
              "        [1, 1, 1,  ..., 0, 0, 0],\n",
              "        ...,\n",
              "        [1, 1, 1,  ..., 1, 0, 0],\n",
              "        [1, 1, 1,  ..., 0, 0, 0],\n",
              "        [1, 1, 1,  ..., 1, 0, 0]]), 'labels': tensor([[-100, -100, 4520,  ..., -100, -100, -100],\n",
              "        [-100, -100, -100,  ..., -100, -100, -100],\n",
              "        [-100, -100, -100,  ..., -100, -100, -100],\n",
              "        ...,\n",
              "        [-100, -100, -100,  ..., -100, -100, -100],\n",
              "        [-100, 2016, -100,  ..., -100, -100, -100],\n",
              "        [-100, -100, -100,  ..., -100, -100, -100]])}"
            ]
          },
          "metadata": {},
          "execution_count": 101
        }
      ]
    },
    {
      "cell_type": "code",
      "source": [
        "random_tensor = torch.rand(inputs['input_ids'].shape)"
      ],
      "metadata": {
        "id": "6oSaYLBL02ds"
      },
      "execution_count": 102,
      "outputs": []
    },
    {
      "cell_type": "code",
      "source": [
        "inputs['input_ids'].shape, random_tensor.shape"
      ],
      "metadata": {
        "colab": {
          "base_uri": "https://localhost:8080/"
        },
        "id": "ekQJ-t0V0-qT",
        "outputId": "9d907f4c-c85d-440e-ec0f-c342aed7bba2"
      },
      "execution_count": 103,
      "outputs": [
        {
          "output_type": "execute_result",
          "data": {
            "text/plain": [
              "(torch.Size([134, 12]), torch.Size([134, 12]))"
            ]
          },
          "metadata": {},
          "execution_count": 103
        }
      ]
    },
    {
      "cell_type": "code",
      "source": [
        "random_tensor"
      ],
      "metadata": {
        "colab": {
          "base_uri": "https://localhost:8080/"
        },
        "id": "vGRf-fO21IJI",
        "outputId": "98bfc657-600f-46b4-c94b-52a786acb715"
      },
      "execution_count": 104,
      "outputs": [
        {
          "output_type": "execute_result",
          "data": {
            "text/plain": [
              "tensor([[7.3841e-01, 2.5501e-01, 5.5220e-01,  ..., 1.7502e-01, 5.8643e-01,\n",
              "         9.1790e-01],\n",
              "        [9.2138e-01, 8.1164e-04, 6.1720e-01,  ..., 4.6088e-01, 4.3235e-01,\n",
              "         9.4866e-01],\n",
              "        [7.2383e-01, 8.7527e-02, 9.5818e-01,  ..., 6.8351e-01, 4.4784e-01,\n",
              "         1.0775e-01],\n",
              "        ...,\n",
              "        [2.9965e-02, 9.7720e-01, 8.9833e-01,  ..., 6.6679e-01, 1.8124e-01,\n",
              "         2.0136e-01],\n",
              "        [1.4638e-01, 1.1553e-01, 1.5428e-01,  ..., 3.8863e-01, 3.9502e-01,\n",
              "         8.8746e-01],\n",
              "        [9.6979e-01, 7.9201e-01, 3.7361e-01,  ..., 1.4298e-02, 8.1376e-01,\n",
              "         2.3274e-01]])"
            ]
          },
          "metadata": {},
          "execution_count": 104
        }
      ]
    },
    {
      "cell_type": "code",
      "source": [
        "masked_tensor = (random_tensor < 0.1) * (inputs['input_ids'] != 101) * (inputs['input_ids'] != 102) * (inputs['input_ids'] != 0)"
      ],
      "metadata": {
        "id": "Zj55SiMB1KsC"
      },
      "execution_count": 105,
      "outputs": []
    },
    {
      "cell_type": "code",
      "source": [
        "masked_tensor"
      ],
      "metadata": {
        "colab": {
          "base_uri": "https://localhost:8080/"
        },
        "id": "delMvOdl1Yna",
        "outputId": "a7252e3b-95ac-46fe-a67a-78ae06c99a91"
      },
      "execution_count": 106,
      "outputs": [
        {
          "output_type": "execute_result",
          "data": {
            "text/plain": [
              "tensor([[False, False, False,  ..., False, False, False],\n",
              "        [False,  True, False,  ..., False, False, False],\n",
              "        [False,  True, False,  ..., False, False, False],\n",
              "        ...,\n",
              "        [False, False, False,  ..., False, False, False],\n",
              "        [False, False, False,  ..., False, False, False],\n",
              "        [False, False, False,  ..., False, False, False]])"
            ]
          },
          "metadata": {},
          "execution_count": 106
        }
      ]
    },
    {
      "cell_type": "code",
      "source": [
        "nonzero_indexes = []\n",
        "for i in range(len(masked_tensor)):\n",
        "    nonzero_indexes.append(torch.flatten(masked_tensor[i].nonzero()).tolist())"
      ],
      "metadata": {
        "id": "DpDwGccU1ZqO"
      },
      "execution_count": 107,
      "outputs": []
    },
    {
      "cell_type": "code",
      "source": [
        "nonzero_indexes"
      ],
      "metadata": {
        "colab": {
          "base_uri": "https://localhost:8080/"
        },
        "id": "eu7bAmnf2f5h",
        "outputId": "ed0409b2-4746-4321-f790-b08d23c87de4"
      },
      "execution_count": 108,
      "outputs": [
        {
          "output_type": "execute_result",
          "data": {
            "text/plain": [
              "[[],\n",
              " [1],\n",
              " [1],\n",
              " [2],\n",
              " [],\n",
              " [],\n",
              " [],\n",
              " [],\n",
              " [],\n",
              " [],\n",
              " [],\n",
              " [],\n",
              " [],\n",
              " [2, 6],\n",
              " [],\n",
              " [],\n",
              " [3],\n",
              " [1, 4],\n",
              " [2],\n",
              " [],\n",
              " [],\n",
              " [2],\n",
              " [3, 5],\n",
              " [1],\n",
              " [],\n",
              " [8],\n",
              " [],\n",
              " [],\n",
              " [3, 4],\n",
              " [2, 5],\n",
              " [],\n",
              " [8],\n",
              " [],\n",
              " [6],\n",
              " [],\n",
              " [1, 2],\n",
              " [2],\n",
              " [],\n",
              " [5],\n",
              " [],\n",
              " [],\n",
              " [1, 3],\n",
              " [],\n",
              " [2],\n",
              " [4],\n",
              " [],\n",
              " [1],\n",
              " [],\n",
              " [2],\n",
              " [],\n",
              " [6],\n",
              " [],\n",
              " [],\n",
              " [7],\n",
              " [1, 2],\n",
              " [],\n",
              " [],\n",
              " [1, 3],\n",
              " [4, 5],\n",
              " [],\n",
              " [6],\n",
              " [],\n",
              " [],\n",
              " [],\n",
              " [1, 3, 4],\n",
              " [1],\n",
              " [],\n",
              " [],\n",
              " [],\n",
              " [],\n",
              " [],\n",
              " [],\n",
              " [],\n",
              " [],\n",
              " [],\n",
              " [8],\n",
              " [],\n",
              " [4, 5, 7, 8],\n",
              " [2],\n",
              " [],\n",
              " [1],\n",
              " [1],\n",
              " [4],\n",
              " [],\n",
              " [],\n",
              " [],\n",
              " [],\n",
              " [],\n",
              " [],\n",
              " [],\n",
              " [6],\n",
              " [1],\n",
              " [3],\n",
              " [],\n",
              " [],\n",
              " [1],\n",
              " [5, 6],\n",
              " [1, 7],\n",
              " [],\n",
              " [5],\n",
              " [2],\n",
              " [1, 7],\n",
              " [4],\n",
              " [8],\n",
              " [],\n",
              " [],\n",
              " [],\n",
              " [5],\n",
              " [2],\n",
              " [3],\n",
              " [],\n",
              " [],\n",
              " [],\n",
              " [4],\n",
              " [],\n",
              " [1, 8],\n",
              " [5],\n",
              " [2, 4],\n",
              " [4, 6],\n",
              " [],\n",
              " [],\n",
              " [8],\n",
              " [],\n",
              " [],\n",
              " [3],\n",
              " [],\n",
              " [],\n",
              " [5],\n",
              " [2],\n",
              " [3, 4],\n",
              " [],\n",
              " [7],\n",
              " [],\n",
              " [3, 4]]"
            ]
          },
          "metadata": {},
          "execution_count": 108
        }
      ]
    },
    {
      "cell_type": "code",
      "source": [
        "for i in range(len(inputs['input_ids'])):\n",
        "    inputs['input_ids'][i, nonzero_indexes[i]] = 103"
      ],
      "metadata": {
        "id": "uBAUfIv12jFn"
      },
      "execution_count": 109,
      "outputs": []
    },
    {
      "cell_type": "code",
      "source": [
        "inputs['input_ids']"
      ],
      "metadata": {
        "colab": {
          "base_uri": "https://localhost:8080/"
        },
        "id": "6-DJvS5J293B",
        "outputId": "79e0d750-3918-4aa6-c0d0-4ccbd961b338"
      },
      "execution_count": 110,
      "outputs": [
        {
          "output_type": "execute_result",
          "data": {
            "text/plain": [
              "tensor([[  101, 21829,  4520,  ...,     0,     0,     0],\n",
              "        [  101,   103, 27247,  ...,   102,     0,     0],\n",
              "        [  101,   103,  1264,  ...,     0,     0,     0],\n",
              "        ...,\n",
              "        [  101,  2618, 25222,  ...,   102,     0,     0],\n",
              "        [  101,  2016, 43561,  ...,     0,     0,     0],\n",
              "        [  101,  6310, 31832,  ...,   102,     0,     0]])"
            ]
          },
          "metadata": {},
          "execution_count": 110
        }
      ]
    },
    {
      "cell_type": "code",
      "source": [
        "class MaskFillingDataset(torch.utils.data.Dataset):\n",
        "    def __init__(self, encodings):\n",
        "        self.encodings = encodings\n",
        "\n",
        "    def __len__(self):\n",
        "        return len(self.encodings['input_ids'])\n",
        "\n",
        "    def __getitem__(self, idx):\n",
        "        return {\n",
        "            'input_ids': self.encodings['input_ids'][idx],\n",
        "            'attention_mask': self.encodings['attention_mask'][idx],\n",
        "            'labels': self.encodings['labels'][idx]\n",
        "        }"
      ],
      "metadata": {
        "id": "-Azlai_U3AsW"
      },
      "execution_count": 111,
      "outputs": []
    },
    {
      "cell_type": "code",
      "source": [
        "dataset = MaskFillingDataset(inputs)"
      ],
      "metadata": {
        "id": "trVWgOCQ3Vup"
      },
      "execution_count": 112,
      "outputs": []
    },
    {
      "cell_type": "code",
      "source": [
        "dataloader = torch.utils.data.DataLoader(dataset, batch_size=16, shuffle=True)"
      ],
      "metadata": {
        "id": "ktNxTePF3Zz9"
      },
      "execution_count": 113,
      "outputs": []
    },
    {
      "cell_type": "code",
      "source": [
        "device = torch.device('cuda') if torch.cuda.is_available() else torch.device('cpu')\n",
        "device\n",
        "model.to(device)"
      ],
      "metadata": {
        "colab": {
          "base_uri": "https://localhost:8080/"
        },
        "id": "U61VxnUG31HO",
        "outputId": "7e27aba6-f3f2-45b4-f117-54667644b79e"
      },
      "execution_count": 114,
      "outputs": [
        {
          "output_type": "execute_result",
          "data": {
            "text/plain": [
              "BertForMaskedLM(\n",
              "  (bert): BertModel(\n",
              "    (embeddings): BertEmbeddings(\n",
              "      (word_embeddings): Embedding(46119, 768, padding_idx=0)\n",
              "      (position_embeddings): Embedding(512, 768)\n",
              "      (token_type_embeddings): Embedding(2, 768)\n",
              "      (LayerNorm): LayerNorm((768,), eps=1e-12, elementwise_affine=True)\n",
              "      (dropout): Dropout(p=0.1, inplace=False)\n",
              "    )\n",
              "    (encoder): BertEncoder(\n",
              "      (layer): ModuleList(\n",
              "        (0-11): 12 x BertLayer(\n",
              "          (attention): BertAttention(\n",
              "            (self): BertSdpaSelfAttention(\n",
              "              (query): Linear(in_features=768, out_features=768, bias=True)\n",
              "              (key): Linear(in_features=768, out_features=768, bias=True)\n",
              "              (value): Linear(in_features=768, out_features=768, bias=True)\n",
              "              (dropout): Dropout(p=0.1, inplace=False)\n",
              "            )\n",
              "            (output): BertSelfOutput(\n",
              "              (dense): Linear(in_features=768, out_features=768, bias=True)\n",
              "              (LayerNorm): LayerNorm((768,), eps=1e-12, elementwise_affine=True)\n",
              "              (dropout): Dropout(p=0.1, inplace=False)\n",
              "            )\n",
              "          )\n",
              "          (intermediate): BertIntermediate(\n",
              "            (dense): Linear(in_features=768, out_features=3072, bias=True)\n",
              "            (intermediate_act_fn): GELUActivation()\n",
              "          )\n",
              "          (output): BertOutput(\n",
              "            (dense): Linear(in_features=3072, out_features=768, bias=True)\n",
              "            (LayerNorm): LayerNorm((768,), eps=1e-12, elementwise_affine=True)\n",
              "            (dropout): Dropout(p=0.1, inplace=False)\n",
              "          )\n",
              "        )\n",
              "      )\n",
              "    )\n",
              "  )\n",
              "  (cls): BertOnlyMLMHead(\n",
              "    (predictions): BertLMPredictionHead(\n",
              "      (transform): BertPredictionHeadTransform(\n",
              "        (dense): Linear(in_features=768, out_features=768, bias=True)\n",
              "        (transform_act_fn): GELUActivation()\n",
              "        (LayerNorm): LayerNorm((768,), eps=1e-12, elementwise_affine=True)\n",
              "      )\n",
              "      (decoder): Linear(in_features=768, out_features=46119, bias=True)\n",
              "    )\n",
              "  )\n",
              ")"
            ]
          },
          "metadata": {},
          "execution_count": 114
        }
      ]
    },
    {
      "cell_type": "markdown",
      "source": [
        "# Setup Model Parameter"
      ],
      "metadata": {
        "id": "PQ8gVxkm36he"
      }
    },
    {
      "cell_type": "code",
      "source": [
        "epochs = 4\n",
        "optimizer = AdamW(model.parameters(), lr=1e-6)"
      ],
      "metadata": {
        "id": "zGryC69m32N7"
      },
      "execution_count": 130,
      "outputs": []
    },
    {
      "cell_type": "code",
      "source": [
        "train_losses = []\n",
        "train_perplexities = []"
      ],
      "metadata": {
        "id": "xMus2jPd6_3X"
      },
      "execution_count": 131,
      "outputs": []
    },
    {
      "cell_type": "code",
      "source": [
        "for epoch in range(epochs):\n",
        "    loop = tqdm(dataloader, desc=f\"Epoch {epoch+1}/{epochs}\")\n",
        "    epoch_loss = 0\n",
        "    for batch in loop:\n",
        "        optimizer.zero_grad()\n",
        "        input_ids = batch['input_ids'].to(device)\n",
        "        attention_mask = batch['attention_mask'].to(device)\n",
        "        labels = batch['labels'].to(device)\n",
        "        outputs = model(input_ids=input_ids, attention_mask=attention_mask, labels=labels)\n",
        "        loss = outputs.loss\n",
        "        loss.backward()\n",
        "        torch.nn.utils.clip_grad_norm_(model.parameters(), max_norm=1.0)\n",
        "        optimizer.step()\n",
        "\n",
        "        epoch_loss += loss.item()\n",
        "        train_losses.append(loss.item())\n",
        "\n",
        "        # Tính Perplexity\n",
        "        perplexity = math.exp(loss.item())\n",
        "        train_perplexities.append(perplexity)\n",
        "\n",
        "        loop.set_postfix(loss=loss.item(), perplexity=perplexity)\n",
        "\n",
        "    avg_epoch_loss = epoch_loss / len(dataloader)\n",
        "    avg_epoch_ppl = math.exp(avg_epoch_loss)\n",
        "    print(f\"Epoch {epoch+1} Average Loss: {avg_epoch_loss:.4f} | Perplexity: {avg_epoch_ppl:.4f}\")"
      ],
      "metadata": {
        "colab": {
          "base_uri": "https://localhost:8080/",
          "height": 214,
          "referenced_widgets": [
            "321d7a5b57584a85a96806844cc99e0c",
            "155da407ae764d36a47392e3335e836a",
            "7222d216f5f54c9e87bf125e69f019d1",
            "e97eb4019d4242fdbe1fbfa3f1bda582",
            "52516fcf9fd84ee894b2c0b3dee8e1ea",
            "bfadf611aeca444ab25965c484380c96",
            "005f0de7c64e47a28285609d42846d97",
            "586d85fea6144d0ca409c98b1ff642cb",
            "69e92b1901ea49348cc5a3523ea4775c",
            "6b81d7f36acd4f89a403510d89987b5d",
            "8f5cf8eb56ab417fab2494458d70542a",
            "1e4b119ce510464f9c5c334814dbf7bd",
            "a2e1596e8d524199b80d5561cef96d2d",
            "5eb2718559ec4bbb90e05ad290409acf",
            "bba148c370104f17925483da6959de5a",
            "8feaf8c22706470498423c3d812b90f7",
            "8ebe458833464a2cacc1e08107e1f96a",
            "cea99b8b44e84af796478253346f03b8",
            "e4eb20eff92a49e1be6e7229cbc2266e",
            "dc16b0c1ba804205a27ac70df72dc5e8",
            "6fa468ad0b7a494db082beac13e2ae48",
            "3efdb97f967a477489fd0d95201e2964",
            "7af25e784aa64b918598d7b6f9985274",
            "b60c0f982c9d47ada5bc56bee27f3de1",
            "98e937f814734039a866b52f556b77fb",
            "76fd22e471d54204b6cebe16524c38a0",
            "b425aad505a74afe88c26fc97f19fe22",
            "cd997830dedb47beb45e29b910c1e20a",
            "66f0514de7df458182c3135b1615298a",
            "3b80979edf794f21bae045dc64c59e05",
            "418067979dc94feb9b710d70c6e70d9b",
            "5efda19eb279461d8e55c01120508453",
            "d100b95941334d868c460845ff4fdd78",
            "a9bfb2e76adf474ebb0a361a040826a8",
            "1dde4cd355bc4e839b099c3d206fb972",
            "52dd3b5c6b1c44e698efe43d2306cf8f",
            "c5adbed863c24b2aaa05e1aee05ed96e",
            "6b671de1163b4ea9882db66043ecad5c",
            "1445c55270014c4da63596dd4d00e90d",
            "5b43ceb61b454f63b9c70a9ab2e22a2c",
            "e98bd04c369c49edbd0ffab20ec498ac",
            "96095862c8b444648dbdb37b67bdec3e",
            "3ee6507d8a2b463793bee439be649cc0",
            "a02b50bf62e6406ea71f3411edf057f6"
          ]
        },
        "id": "WbuTtVqb39Tb",
        "outputId": "c479d655-9c26-4b45-b99c-6208bb269711"
      },
      "execution_count": 132,
      "outputs": [
        {
          "output_type": "display_data",
          "data": {
            "text/plain": [
              "Epoch 1/4:   0%|          | 0/9 [00:00<?, ?it/s]"
            ],
            "application/vnd.jupyter.widget-view+json": {
              "version_major": 2,
              "version_minor": 0,
              "model_id": "321d7a5b57584a85a96806844cc99e0c"
            }
          },
          "metadata": {}
        },
        {
          "output_type": "stream",
          "name": "stdout",
          "text": [
            "Epoch 1 Average Loss: 9.5705 | Perplexity: 14336.2941\n"
          ]
        },
        {
          "output_type": "display_data",
          "data": {
            "text/plain": [
              "Epoch 2/4:   0%|          | 0/9 [00:00<?, ?it/s]"
            ],
            "application/vnd.jupyter.widget-view+json": {
              "version_major": 2,
              "version_minor": 0,
              "model_id": "1e4b119ce510464f9c5c334814dbf7bd"
            }
          },
          "metadata": {}
        },
        {
          "output_type": "stream",
          "name": "stdout",
          "text": [
            "Epoch 2 Average Loss: 9.2213 | Perplexity: 10110.6465\n"
          ]
        },
        {
          "output_type": "display_data",
          "data": {
            "text/plain": [
              "Epoch 3/4:   0%|          | 0/9 [00:00<?, ?it/s]"
            ],
            "application/vnd.jupyter.widget-view+json": {
              "version_major": 2,
              "version_minor": 0,
              "model_id": "7af25e784aa64b918598d7b6f9985274"
            }
          },
          "metadata": {}
        },
        {
          "output_type": "stream",
          "name": "stdout",
          "text": [
            "Epoch 3 Average Loss: nan | Perplexity: nan\n"
          ]
        },
        {
          "output_type": "display_data",
          "data": {
            "text/plain": [
              "Epoch 4/4:   0%|          | 0/9 [00:00<?, ?it/s]"
            ],
            "application/vnd.jupyter.widget-view+json": {
              "version_major": 2,
              "version_minor": 0,
              "model_id": "a9bfb2e76adf474ebb0a361a040826a8"
            }
          },
          "metadata": {}
        },
        {
          "output_type": "stream",
          "name": "stdout",
          "text": [
            "Epoch 4 Average Loss: 9.4095 | Perplexity: 12204.2437\n"
          ]
        }
      ]
    },
    {
      "cell_type": "code",
      "source": [
        "plt.figure(figsize=(12, 6))\n",
        "\n",
        "# Vẽ Loss\n",
        "plt.subplot(1, 2, 1)\n",
        "plt.plot(train_losses, label='Training Loss', color='blue')\n",
        "plt.xlabel('Bước Huấn Luyện')\n",
        "plt.ylabel('Loss')\n",
        "plt.title('Biểu Đồ Loss Trong Quá Trình Huấn Luyện')\n",
        "plt.legend()\n",
        "\n",
        "# Vẽ Perplexity\n",
        "plt.subplot(1, 2, 2)\n",
        "plt.plot(train_perplexities, label='Training Perplexity', color='red')\n",
        "plt.xlabel('Bước Huấn Luyện')\n",
        "plt.ylabel('Perplexity')\n",
        "plt.title('Biểu Đồ Perplexity Trong Quá Trình Huấn Luyện')\n",
        "plt.legend()\n",
        "\n",
        "plt.tight_layout()\n",
        "plt.show()"
      ],
      "metadata": {
        "id": "VLey9f7y3-1S"
      },
      "execution_count": 116,
      "outputs": []
    }
  ]
}